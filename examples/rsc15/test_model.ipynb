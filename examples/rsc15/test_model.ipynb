{
 "cells": [
  {
   "cell_type": "code",
   "execution_count": 1,
   "metadata": {
    "collapsed": true
   },
   "outputs": [],
   "source": [
    "import sys\n",
    "sys.path.append('../..')\n",
    "\n",
    "import numpy as np\n",
    "import pandas as pd\n",
    "import gru4rec\n",
    "import evaluation\n",
    "\n",
    "PATH_TO_TRAIN = 'processedrsc15_train_full.txt'\n",
    "PATH_TO_TEST = 'processedrsc15_test.txt'"
   ]
  },
  {
   "cell_type": "code",
   "execution_count": 2,
   "metadata": {
    "collapsed": true
   },
   "outputs": [],
   "source": [
    "data = pd.read_csv(PATH_TO_TRAIN, sep='\\t', dtype={'ItemId':np.int64})\n",
    "valid = pd.read_csv(PATH_TO_TEST, sep='\\t', dtype={'ItemId':np.int64})"
   ]
  },
  {
   "cell_type": "code",
   "execution_count": 3,
   "metadata": {},
   "outputs": [
    {
     "name": "stdout",
     "output_type": "stream",
     "text": [
      "<class 'pandas.core.frame.DataFrame'>\n",
      "RangeIndex: 31637239 entries, 0 to 31637238\n",
      "Data columns (total 3 columns):\n",
      "SessionId    int64\n",
      "ItemId       int64\n",
      "Time         float64\n",
      "dtypes: float64(1), int64(2)\n",
      "memory usage: 724.1 MB\n"
     ]
    }
   ],
   "source": [
    "data.info()"
   ]
  },
  {
   "cell_type": "code",
   "execution_count": 4,
   "metadata": {},
   "outputs": [
    {
     "name": "stdout",
     "output_type": "stream",
     "text": [
      "<class 'pandas.core.frame.DataFrame'>\n",
      "RangeIndex: 71222 entries, 0 to 71221\n",
      "Data columns (total 3 columns):\n",
      "SessionId    71222 non-null int64\n",
      "ItemId       71222 non-null int64\n",
      "Time         71222 non-null float64\n",
      "dtypes: float64(1), int64(2)\n",
      "memory usage: 1.6 MB\n"
     ]
    }
   ],
   "source": [
    "valid.info()"
   ]
  },
  {
   "cell_type": "code",
   "execution_count": 5,
   "metadata": {
    "collapsed": true
   },
   "outputs": [],
   "source": [
    "gru = gru4rec.GRU4Rec(loss='bpr', final_act='tanh', hidden_act='tanh', \n",
    "                      layers=[100], batch_size=50, dropout_p_hidden=0.5, \n",
    "                      learning_rate=0.01, momentum=0.0, time_sort=False)"
   ]
  },
  {
   "cell_type": "code",
   "execution_count": 6,
   "metadata": {},
   "outputs": [
    {
     "name": "stdout",
     "output_type": "stream",
     "text": [
      "Epoch0\tloss: 0.404305\n",
      "Epoch1\tloss: 0.331060\n",
      "Epoch2\tloss: 0.313298\n",
      "Epoch3\tloss: 0.304178\n",
      "Epoch4\tloss: 0.298470\n",
      "Epoch5\tloss: 0.294473\n",
      "Epoch6\tloss: 0.291477\n",
      "Epoch7\tloss: 0.289135\n",
      "Epoch8\tloss: 0.287277\n",
      "Epoch9\tloss: 0.285725\n",
      "CPU times: user 2h 35min 1s, sys: 47.4 s, total: 2h 35min 48s\n",
      "Wall time: 2h 35min 52s\n"
     ]
    }
   ],
   "source": [
    "%time gru.fit(data)"
   ]
  },
  {
   "cell_type": "code",
   "execution_count": 7,
   "metadata": {},
   "outputs": [
    {
     "name": "stdout",
     "output_type": "stream",
     "text": [
      "Measuring Recall@19 and MRR@19\n",
      "Recall@20: 0.549643994418405\n",
      "MRR@20: 0.20638437657723818\n"
     ]
    }
   ],
   "source": [
    "res = evaluation.evaluate_sessions_batch(gru, valid, None)\n",
    "print('Recall@20: {}'.format(res[0]))\n",
    "print('MRR@20: {}'.format(res[1]))"
   ]
  },
  {
   "cell_type": "code",
   "execution_count": 8,
   "metadata": {
    "collapsed": true
   },
   "outputs": [],
   "source": [
    "gru = gru4rec.GRU4Rec(loss='bpr-max-0.5', final_act='linear', hidden_act='tanh', \n",
    "                      layers=[100], batch_size=32, dropout_p_hidden=0.0, learning_rate=0.2, \n",
    "                      momentum=0.5, n_sample=2048, sample_alpha=0, time_sort=True)"
   ]
  },
  {
   "cell_type": "code",
   "execution_count": null,
   "metadata": {},
   "outputs": [
    {
     "name": "stdout",
     "output_type": "stream",
     "text": [
      "Created sample store with 4882 batches of samples\n",
      "Epoch0\tloss: 0.251367\n"
     ]
    }
   ],
   "source": [
    "%time gru.fit(data)"
   ]
  },
  {
   "cell_type": "code",
   "execution_count": null,
   "metadata": {
    "collapsed": true
   },
   "outputs": [],
   "source": [
    "len(res)"
   ]
  },
  {
   "cell_type": "code",
   "execution_count": null,
   "metadata": {
    "collapsed": true
   },
   "outputs": [],
   "source": [
    "data"
   ]
  },
  {
   "cell_type": "code",
   "execution_count": null,
   "metadata": {
    "collapsed": true
   },
   "outputs": [],
   "source": []
  }
 ],
 "metadata": {
  "kernelspec": {
   "display_name": "Python 3",
   "language": "python",
   "name": "python3"
  },
  "language_info": {
   "codemirror_mode": {
    "name": "ipython",
    "version": 3
   },
   "file_extension": ".py",
   "mimetype": "text/x-python",
   "name": "python",
   "nbconvert_exporter": "python",
   "pygments_lexer": "ipython3",
   "version": "3.5.3"
  }
 },
 "nbformat": 4,
 "nbformat_minor": 2
}
