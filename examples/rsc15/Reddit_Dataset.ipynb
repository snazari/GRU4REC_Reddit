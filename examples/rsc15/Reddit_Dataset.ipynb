{
 "cells": [
  {
   "cell_type": "code",
   "execution_count": 35,
   "metadata": {
    "collapsed": true
   },
   "outputs": [],
   "source": [
    "import sys\n",
    "sys.path.append('../..')\n",
    "\n",
    "import numpy as np\n",
    "import pandas as pd\n",
    "import gru4rec\n",
    "import evaluation\n",
    "\n",
    "PATH_TO_TRAIN = 'processedrsc15_train_full.txt'\n",
    "PATH_TO_TEST = 'processedrsc15_test.txt'\n",
    "pd.options.display.max_rows = 10"
   ]
  },
  {
   "cell_type": "code",
   "execution_count": 2,
   "metadata": {
    "collapsed": true
   },
   "outputs": [],
   "source": [
    "data = pd.read_csv(PATH_TO_TRAIN, sep='\\t', dtype={'ItemId':np.int64})\n",
    "valid = pd.read_csv(PATH_TO_TEST, sep='\\t', dtype={'ItemId':np.int64})"
   ]
  },
  {
   "cell_type": "code",
   "execution_count": 3,
   "metadata": {},
   "outputs": [
    {
     "name": "stdout",
     "output_type": "stream",
     "text": [
      "<class 'pandas.core.frame.DataFrame'>\n",
      "RangeIndex: 31637239 entries, 0 to 31637238\n",
      "Data columns (total 3 columns):\n",
      "SessionId    int64\n",
      "ItemId       int64\n",
      "Time         float64\n",
      "dtypes: float64(1), int64(2)\n",
      "memory usage: 724.1 MB\n"
     ]
    }
   ],
   "source": [
    "data.info()"
   ]
  },
  {
   "cell_type": "code",
   "execution_count": 4,
   "metadata": {},
   "outputs": [
    {
     "name": "stdout",
     "output_type": "stream",
     "text": [
      "<class 'pandas.core.frame.DataFrame'>\n",
      "RangeIndex: 71222 entries, 0 to 71221\n",
      "Data columns (total 3 columns):\n",
      "SessionId    71222 non-null int64\n",
      "ItemId       71222 non-null int64\n",
      "Time         71222 non-null float64\n",
      "dtypes: float64(1), int64(2)\n",
      "memory usage: 1.6 MB\n"
     ]
    }
   ],
   "source": [
    "valid.info()"
   ]
  },
  {
   "cell_type": "code",
   "execution_count": 5,
   "metadata": {
    "collapsed": true
   },
   "outputs": [],
   "source": [
    "gru = gru4rec.GRU4Rec(loss='top1-max',final_act='softmax',hidden_act='relu',\n",
    "                      layers=[100],batch_size=50, dropout_p_hidden=0.5,\n",
    "                      learning_rate=0.01,momentum=0.0,time_sort=False)"
   ]
  },
  {
   "cell_type": "code",
   "execution_count": 6,
   "metadata": {
    "scrolled": true
   },
   "outputs": [
    {
     "name": "stdout",
     "output_type": "stream",
     "text": [
      "Epoch0\tloss: 0.994812\n",
      "Epoch1\tloss: 0.975859\n",
      "Epoch2\tloss: 0.957853\n",
      "Epoch3\tloss: 0.945507\n",
      "Epoch4\tloss: 0.936542\n",
      "Epoch5\tloss: 0.929307\n",
      "Epoch6\tloss: 0.923198\n",
      "Epoch7\tloss: 0.918094\n",
      "Epoch8\tloss: 0.913777\n",
      "Epoch9\tloss: 0.910165\n",
      "CPU times: user 2h 49min 39s, sys: 1min 20s, total: 2h 51min\n",
      "Wall time: 2h 51min 8s\n"
     ]
    }
   ],
   "source": [
    "%time gru.fit(data)"
   ]
  },
  {
   "cell_type": "code",
   "execution_count": 7,
   "metadata": {},
   "outputs": [
    {
     "name": "stdout",
     "output_type": "stream",
     "text": [
      "Measuring Recall@19 and MRR@19\n"
     ]
    }
   ],
   "source": [
    "res = evaluation.evaluate_sessions_batch(gru,valid,None)"
   ]
  },
  {
   "cell_type": "code",
   "execution_count": 8,
   "metadata": {},
   "outputs": [
    {
     "data": {
      "text/plain": [
       "(0.39414648109055778, 0.16676975545085579)"
      ]
     },
     "execution_count": 8,
     "metadata": {},
     "output_type": "execute_result"
    }
   ],
   "source": [
    "res"
   ]
  },
  {
   "cell_type": "code",
   "execution_count": null,
   "metadata": {
    "collapsed": true
   },
   "outputs": [],
   "source": [
    "gru = gru4rec.GRU4Rec(loss='bpr', final_act='tanh', hidden_act='tanh', \n",
    "                      layers=[100], batch_size=50, dropout_p_hidden=0.5, \n",
    "                      learning_rate=0.01, momentum=0.0, time_sort=False)"
   ]
  },
  {
   "cell_type": "code",
   "execution_count": null,
   "metadata": {
    "collapsed": true
   },
   "outputs": [],
   "source": [
    "%time gru.fit(data)"
   ]
  },
  {
   "cell_type": "code",
   "execution_count": null,
   "metadata": {
    "collapsed": true
   },
   "outputs": [],
   "source": [
    "res = evaluation.evaluate_sessions_batch(gru, valid, None)\n",
    "print('Recall@20: {}'.format(res[0]))\n",
    "print('MRR@20: {}'.format(res[1]))"
   ]
  },
  {
   "cell_type": "code",
   "execution_count": null,
   "metadata": {
    "collapsed": true
   },
   "outputs": [],
   "source": [
    "gru = gru4rec.GRU4Rec(loss='bpr-max-0.5', final_act='linear', hidden_act='tanh', \n",
    "                      layers=[100], batch_size=32, dropout_p_hidden=0.0, learning_rate=0.2, \n",
    "                      momentum=0.5, n_sample=2048, sample_alpha=0, time_sort=True)"
   ]
  },
  {
   "cell_type": "code",
   "execution_count": null,
   "metadata": {
    "collapsed": true
   },
   "outputs": [],
   "source": [
    "%time gru.fit(data)"
   ]
  },
  {
   "cell_type": "code",
   "execution_count": null,
   "metadata": {
    "collapsed": true
   },
   "outputs": [],
   "source": [
    "len(res)"
   ]
  },
  {
   "cell_type": "code",
   "execution_count": 9,
   "metadata": {},
   "outputs": [
    {
     "name": "stdout",
     "output_type": "stream",
     "text": [
      "dataset-README.txt              reddit_03_17_posts.csv\r\n",
      "preprocess.py                   run_rsc15.py\r\n",
      "\u001b[0m\u001b[01;34mprocessed\u001b[0m/                      test_model-2.ipynb\r\n",
      "processedrsc15_test.txt         test_model-3.ipynb\r\n",
      "processedrsc15_train_full.txt   test_model.ipynb\r\n",
      "processedrsc15_train_tr.txt     yoochoose-buys.dat\r\n",
      "processedrsc15_train_valid.txt  yoochoose-clicks.dat\r\n",
      "reddit_01_17_posts.csv          yoochoose-data.7z\r\n",
      "reddit_02_17_posts.csv          yoochoose-test.dat\r\n"
     ]
    }
   ],
   "source": [
    "ls"
   ]
  },
  {
   "cell_type": "code",
   "execution_count": 13,
   "metadata": {
    "collapsed": true
   },
   "outputs": [],
   "source": [
    "dR = pd.read_csv('reddit_01_17_posts.csv',header=None)"
   ]
  },
  {
   "cell_type": "code",
   "execution_count": 19,
   "metadata": {
    "collapsed": true
   },
   "outputs": [],
   "source": [
    "dR.columns=['Time','UserName','Topic','SubReddit']"
   ]
  },
  {
   "cell_type": "markdown",
   "metadata": {},
   "source": [
    "#### Drop all the nan's and drop the topic"
   ]
  },
  {
   "cell_type": "code",
   "execution_count": 31,
   "metadata": {
    "collapsed": true
   },
   "outputs": [],
   "source": [
    "dR.dropna(inplace=True)\n",
    "dR.drop(['Topic'],axis=1,inplace=True)"
   ]
  },
  {
   "cell_type": "code",
   "execution_count": 36,
   "metadata": {},
   "outputs": [
    {
     "data": {
      "text/html": [
       "<div>\n",
       "<style>\n",
       "    .dataframe thead tr:only-child th {\n",
       "        text-align: right;\n",
       "    }\n",
       "\n",
       "    .dataframe thead th {\n",
       "        text-align: left;\n",
       "    }\n",
       "\n",
       "    .dataframe tbody tr th {\n",
       "        vertical-align: top;\n",
       "    }\n",
       "</style>\n",
       "<table border=\"1\" class=\"dataframe\">\n",
       "  <thead>\n",
       "    <tr style=\"text-align: right;\">\n",
       "      <th></th>\n",
       "      <th>Time</th>\n",
       "      <th>UserName</th>\n",
       "      <th>SubReddit</th>\n",
       "    </tr>\n",
       "  </thead>\n",
       "  <tbody>\n",
       "    <tr>\n",
       "      <th>10</th>\n",
       "      <td>1483304874</td>\n",
       "      <td>farbenwvnder</td>\n",
       "      <td>de</td>\n",
       "    </tr>\n",
       "    <tr>\n",
       "      <th>11</th>\n",
       "      <td>1484153578</td>\n",
       "      <td>Jordywp</td>\n",
       "      <td>de</td>\n",
       "    </tr>\n",
       "    <tr>\n",
       "      <th>12</th>\n",
       "      <td>1484252123</td>\n",
       "      <td>YaWishYouHadThatName</td>\n",
       "      <td>de</td>\n",
       "    </tr>\n",
       "    <tr>\n",
       "      <th>13</th>\n",
       "      <td>1484254069</td>\n",
       "      <td>ProgNose</td>\n",
       "      <td>de</td>\n",
       "    </tr>\n",
       "    <tr>\n",
       "      <th>14</th>\n",
       "      <td>1484292642</td>\n",
       "      <td>vinokess</td>\n",
       "      <td>de</td>\n",
       "    </tr>\n",
       "    <tr>\n",
       "      <th>...</th>\n",
       "      <td>...</td>\n",
       "      <td>...</td>\n",
       "      <td>...</td>\n",
       "    </tr>\n",
       "    <tr>\n",
       "      <th>9218508</th>\n",
       "      <td>1484587034</td>\n",
       "      <td>MatTEs_Carter</td>\n",
       "      <td>rocket_league_trading</td>\n",
       "    </tr>\n",
       "    <tr>\n",
       "      <th>9218509</th>\n",
       "      <td>1484568550</td>\n",
       "      <td>vilcatiwordjob</td>\n",
       "      <td>shittycomputersupport</td>\n",
       "    </tr>\n",
       "    <tr>\n",
       "      <th>9218510</th>\n",
       "      <td>1484493772</td>\n",
       "      <td>Jacobamvin</td>\n",
       "      <td>thescienceofdeduction</td>\n",
       "    </tr>\n",
       "    <tr>\n",
       "      <th>9218511</th>\n",
       "      <td>1484275294</td>\n",
       "      <td>qbang05</td>\n",
       "      <td>upliftingnewsforwomen</td>\n",
       "    </tr>\n",
       "    <tr>\n",
       "      <th>9218512</th>\n",
       "      <td>1484186887</td>\n",
       "      <td>Andrewovel</td>\n",
       "      <td>wheredidthesodagowild</td>\n",
       "    </tr>\n",
       "  </tbody>\n",
       "</table>\n",
       "<p>9211945 rows × 3 columns</p>\n",
       "</div>"
      ],
      "text/plain": [
       "               Time              UserName              SubReddit\n",
       "10       1483304874          farbenwvnder                     de\n",
       "11       1484153578               Jordywp                     de\n",
       "12       1484252123  YaWishYouHadThatName                     de\n",
       "13       1484254069              ProgNose                     de\n",
       "14       1484292642              vinokess                     de\n",
       "...             ...                   ...                    ...\n",
       "9218508  1484587034         MatTEs_Carter  rocket_league_trading\n",
       "9218509  1484568550        vilcatiwordjob  shittycomputersupport\n",
       "9218510  1484493772            Jacobamvin  thescienceofdeduction\n",
       "9218511  1484275294               qbang05  upliftingnewsforwomen\n",
       "9218512  1484186887            Andrewovel  wheredidthesodagowild\n",
       "\n",
       "[9211945 rows x 3 columns]"
      ]
     },
     "execution_count": 36,
     "metadata": {},
     "output_type": "execute_result"
    }
   ],
   "source": [
    "dR"
   ]
  },
  {
   "cell_type": "markdown",
   "metadata": {},
   "source": [
    "#### Group by UserName"
   ]
  },
  {
   "cell_type": "code",
   "execution_count": 27,
   "metadata": {
    "collapsed": true
   },
   "outputs": [],
   "source": [
    "grp=dR.groupby('UserName')"
   ]
  },
  {
   "cell_type": "code",
   "execution_count": 40,
   "metadata": {},
   "outputs": [
    {
     "data": {
      "text/plain": [
       "['SubReddit',\n",
       " 'Time',\n",
       " 'UserName',\n",
       " '__bytes__',\n",
       " '__class__',\n",
       " '__delattr__',\n",
       " '__dict__',\n",
       " '__dir__',\n",
       " '__doc__',\n",
       " '__eq__',\n",
       " '__format__',\n",
       " '__ge__',\n",
       " '__getattr__',\n",
       " '__getattribute__',\n",
       " '__getitem__',\n",
       " '__gt__',\n",
       " '__hash__',\n",
       " '__init__',\n",
       " '__iter__',\n",
       " '__le__',\n",
       " '__len__',\n",
       " '__lt__',\n",
       " '__module__',\n",
       " '__ne__',\n",
       " '__new__',\n",
       " '__reduce__',\n",
       " '__reduce_ex__',\n",
       " '__repr__',\n",
       " '__setattr__',\n",
       " '__sizeof__',\n",
       " '__str__',\n",
       " '__subclasshook__',\n",
       " '__unicode__',\n",
       " '__weakref__',\n",
       " '_add_numeric_operations',\n",
       " '_agg_doc',\n",
       " '_aggregate',\n",
       " '_aggregate_generic',\n",
       " '_aggregate_item_by_item',\n",
       " '_aggregate_multiple_funcs',\n",
       " '_apply_filter',\n",
       " '_apply_to_column_groupbys',\n",
       " '_apply_whitelist',\n",
       " '_assure_grouper',\n",
       " '_block_agg_axis',\n",
       " '_builtin_table',\n",
       " '_choose_path',\n",
       " '_concat_objects',\n",
       " '_constructor',\n",
       " '_cumcount_array',\n",
       " '_cython_agg_blocks',\n",
       " '_cython_agg_general',\n",
       " '_cython_table',\n",
       " '_cython_transform',\n",
       " '_decide_output_index',\n",
       " '_def_str',\n",
       " '_define_paths',\n",
       " '_dir_additions',\n",
       " '_dir_deletions',\n",
       " '_get_data_to_aggregate',\n",
       " '_get_index',\n",
       " '_get_indices',\n",
       " '_gotitem',\n",
       " '_group_selection',\n",
       " '_index_with_as_index',\n",
       " '_insert_inaxis_grouper_inplace',\n",
       " '_internal_names',\n",
       " '_internal_names_set',\n",
       " '_is_builtin_func',\n",
       " '_is_cython_func',\n",
       " '_iterate_column_groupbys',\n",
       " '_iterate_slices',\n",
       " '_make_wrapper',\n",
       " '_obj_with_exclusions',\n",
       " '_post_process_cython_aggregate',\n",
       " '_python_agg_general',\n",
       " '_python_apply_general',\n",
       " '_reindex_output',\n",
       " '_reset_cache',\n",
       " '_reset_group_selection',\n",
       " '_selected_obj',\n",
       " '_selection',\n",
       " '_selection_list',\n",
       " '_selection_name',\n",
       " '_set_group_selection',\n",
       " '_set_result_index_ordered',\n",
       " '_shallow_copy',\n",
       " '_transform_fast',\n",
       " '_transform_general',\n",
       " '_transform_item_by_item',\n",
       " '_try_aggregate_string_function',\n",
       " '_try_cast',\n",
       " '_wrap_agged_blocks',\n",
       " '_wrap_aggregated_output',\n",
       " '_wrap_applied_output',\n",
       " '_wrap_generic_output',\n",
       " '_wrap_transformed_output',\n",
       " 'agg',\n",
       " 'aggregate',\n",
       " 'all',\n",
       " 'any',\n",
       " 'apply',\n",
       " 'backfill',\n",
       " 'bfill',\n",
       " 'boxplot',\n",
       " 'corr',\n",
       " 'corrwith',\n",
       " 'count',\n",
       " 'cov',\n",
       " 'cumcount',\n",
       " 'cummax',\n",
       " 'cummin',\n",
       " 'cumprod',\n",
       " 'cumsum',\n",
       " 'describe',\n",
       " 'diff',\n",
       " 'dtypes',\n",
       " 'expanding',\n",
       " 'ffill',\n",
       " 'fillna',\n",
       " 'filter',\n",
       " 'first',\n",
       " 'get_group',\n",
       " 'groups',\n",
       " 'head',\n",
       " 'hist',\n",
       " 'idxmax',\n",
       " 'idxmin',\n",
       " 'indices',\n",
       " 'last',\n",
       " 'mad',\n",
       " 'max',\n",
       " 'mean',\n",
       " 'median',\n",
       " 'min',\n",
       " 'ndim',\n",
       " 'ngroups',\n",
       " 'nth',\n",
       " 'nunique',\n",
       " 'ohlc',\n",
       " 'pad',\n",
       " 'pct_change',\n",
       " 'plot',\n",
       " 'prod',\n",
       " 'quantile',\n",
       " 'rank',\n",
       " 'resample',\n",
       " 'rolling',\n",
       " 'sem',\n",
       " 'shift',\n",
       " 'size',\n",
       " 'skew',\n",
       " 'std',\n",
       " 'sum',\n",
       " 'tail',\n",
       " 'take',\n",
       " 'transform',\n",
       " 'tshift',\n",
       " 'var']"
      ]
     },
     "execution_count": 40,
     "metadata": {},
     "output_type": "execute_result"
    }
   ],
   "source": [
    "dir(grp)"
   ]
  },
  {
   "cell_type": "code",
   "execution_count": 46,
   "metadata": {
    "scrolled": false
   },
   "outputs": [],
   "source": [
    "dR['Count'] = 0"
   ]
  },
  {
   "cell_type": "code",
   "execution_count": 56,
   "metadata": {},
   "outputs": [
    {
     "data": {
      "text/html": [
       "<div>\n",
       "<style>\n",
       "    .dataframe thead tr:only-child th {\n",
       "        text-align: right;\n",
       "    }\n",
       "\n",
       "    .dataframe thead th {\n",
       "        text-align: left;\n",
       "    }\n",
       "\n",
       "    .dataframe tbody tr th {\n",
       "        vertical-align: top;\n",
       "    }\n",
       "</style>\n",
       "<table border=\"1\" class=\"dataframe\">\n",
       "  <thead>\n",
       "    <tr style=\"text-align: right;\">\n",
       "      <th></th>\n",
       "      <th>Count</th>\n",
       "      <th>SubReddit</th>\n",
       "      <th>Time</th>\n",
       "    </tr>\n",
       "    <tr>\n",
       "      <th>UserName</th>\n",
       "      <th></th>\n",
       "      <th></th>\n",
       "      <th></th>\n",
       "    </tr>\n",
       "  </thead>\n",
       "  <tbody>\n",
       "    <tr>\n",
       "      <th>------------------GL</th>\n",
       "      <td>False</td>\n",
       "      <td>True</td>\n",
       "      <td>True</td>\n",
       "    </tr>\n",
       "    <tr>\n",
       "      <th>--------------10</th>\n",
       "      <td>False</td>\n",
       "      <td>True</td>\n",
       "      <td>True</td>\n",
       "    </tr>\n",
       "    <tr>\n",
       "      <th>----------_-_-</th>\n",
       "      <td>False</td>\n",
       "      <td>True</td>\n",
       "      <td>True</td>\n",
       "    </tr>\n",
       "    <tr>\n",
       "      <th>---------45434--</th>\n",
       "      <td>False</td>\n",
       "      <td>True</td>\n",
       "      <td>True</td>\n",
       "    </tr>\n",
       "    <tr>\n",
       "      <th>--------_-------</th>\n",
       "      <td>False</td>\n",
       "      <td>True</td>\n",
       "      <td>True</td>\n",
       "    </tr>\n",
       "    <tr>\n",
       "      <th>...</th>\n",
       "      <td>...</td>\n",
       "      <td>...</td>\n",
       "      <td>...</td>\n",
       "    </tr>\n",
       "    <tr>\n",
       "      <th>zzzzzzzzdfghjkl</th>\n",
       "      <td>False</td>\n",
       "      <td>True</td>\n",
       "      <td>True</td>\n",
       "    </tr>\n",
       "    <tr>\n",
       "      <th>zzzzzzzzlll</th>\n",
       "      <td>False</td>\n",
       "      <td>True</td>\n",
       "      <td>True</td>\n",
       "    </tr>\n",
       "    <tr>\n",
       "      <th>zzzzzzzzz_z</th>\n",
       "      <td>False</td>\n",
       "      <td>True</td>\n",
       "      <td>True</td>\n",
       "    </tr>\n",
       "    <tr>\n",
       "      <th>zzzzzzzzzzzzzzy</th>\n",
       "      <td>False</td>\n",
       "      <td>True</td>\n",
       "      <td>True</td>\n",
       "    </tr>\n",
       "    <tr>\n",
       "      <th>zzzzzzzzzzzzzzzzspaf</th>\n",
       "      <td>False</td>\n",
       "      <td>True</td>\n",
       "      <td>True</td>\n",
       "    </tr>\n",
       "  </tbody>\n",
       "</table>\n",
       "<p>1953324 rows × 3 columns</p>\n",
       "</div>"
      ],
      "text/plain": [
       "                      Count  SubReddit  Time\n",
       "UserName                                    \n",
       "------------------GL  False       True  True\n",
       "--------------10      False       True  True\n",
       "----------_-_-        False       True  True\n",
       "---------45434--      False       True  True\n",
       "--------_-------      False       True  True\n",
       "...                     ...        ...   ...\n",
       "zzzzzzzzdfghjkl       False       True  True\n",
       "zzzzzzzzlll           False       True  True\n",
       "zzzzzzzzz_z           False       True  True\n",
       "zzzzzzzzzzzzzzy       False       True  True\n",
       "zzzzzzzzzzzzzzzzspaf  False       True  True\n",
       "\n",
       "[1953324 rows x 3 columns]"
      ]
     },
     "execution_count": 56,
     "metadata": {},
     "output_type": "execute_result"
    }
   ],
   "source": [
    "grp.all()"
   ]
  },
  {
   "cell_type": "code",
   "execution_count": null,
   "metadata": {
    "collapsed": true
   },
   "outputs": [],
   "source": []
  }
 ],
 "metadata": {
  "kernelspec": {
   "display_name": "Python 3",
   "language": "python",
   "name": "python3"
  },
  "language_info": {
   "codemirror_mode": {
    "name": "ipython",
    "version": 3
   },
   "file_extension": ".py",
   "mimetype": "text/x-python",
   "name": "python",
   "nbconvert_exporter": "python",
   "pygments_lexer": "ipython3",
   "version": "3.5.3"
  }
 },
 "nbformat": 4,
 "nbformat_minor": 2
}
